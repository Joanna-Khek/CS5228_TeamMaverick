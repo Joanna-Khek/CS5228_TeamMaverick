{
 "cells": [
  {
   "cell_type": "markdown",
   "id": "492667f0",
   "metadata": {},
   "source": [
    "# Task 2: Recommendation Engine"
   ]
  },
  {
   "cell_type": "markdown",
   "id": "625d2e1b",
   "metadata": {},
   "source": [
    "All our functions can be found in src/task2_preprocessing.py"
   ]
  },
  {
   "cell_type": "markdown",
   "id": "b4e3949b",
   "metadata": {},
   "source": [
    "## Setting up the Notebook"
   ]
  },
  {
   "cell_type": "code",
   "execution_count": 2,
   "id": "d494b371",
   "metadata": {},
   "outputs": [
    {
     "name": "stdout",
     "output_type": "stream",
     "text": [
      "The autoreload extension is already loaded. To reload it, use:\n",
      "  %reload_ext autoreload\n"
     ]
    }
   ],
   "source": [
    "%load_ext autoreload\n",
    "%autoreload 2\n",
    "%matplotlib inline"
   ]
  },
  {
   "cell_type": "code",
   "execution_count": 3,
   "id": "0d2dc1ce",
   "metadata": {},
   "outputs": [],
   "source": [
    "import numpy as np\n",
    "import pandas as pd\n",
    "\n",
    "from pathlib import Path\n",
    "from src.utils import missing_values_table, get_nearest_y, get_nearest_distances, save_fig\n",
    "from src.preprocessing import clean_property_type, clean_tenure, read_dataframe, fill_missing_values, encode_and_bind\n",
    "from src.task2_preprocessing import *\n",
    "\n",
    "import matplotlib.pyplot as plt\n",
    "import seaborn as sns \n",
    "\n",
    "from sklearn.cluster import KMeans\n",
    "from sklearn.metrics.pairwise import cosine_similarity\n",
    "\n",
    "import warnings\n",
    "warnings.filterwarnings(\"ignore\")"
   ]
  },
  {
   "cell_type": "code",
   "execution_count": 4,
   "id": "36757df6",
   "metadata": {},
   "outputs": [],
   "source": [
    "# create a folder for plots\n",
    "os.makedirs(\"images\", exist_ok=True)"
   ]
  },
  {
   "cell_type": "code",
   "execution_count": 5,
   "id": "7727df8f",
   "metadata": {},
   "outputs": [],
   "source": [
    "data_dir = Path(\"../raw_data\")\n",
    "clean_data_dir = Path(\"../clean_data\")\n",
    "img_dir = Path(\"images\")"
   ]
  },
  {
   "cell_type": "code",
   "execution_count": 6,
   "id": "4118d0bf",
   "metadata": {},
   "outputs": [],
   "source": [
    "pd.set_option('display.max_columns', None)\n",
    "pd.set_option('display.max_rows', None)"
   ]
  },
  {
   "cell_type": "code",
   "execution_count": 7,
   "id": "1bdface4",
   "metadata": {},
   "outputs": [],
   "source": [
    "plt.rc('font', size=15)          # controls default text sizes\n",
    "plt.rc('axes', titlesize=15)     # fontsize of the axes title\n",
    "plt.rc('axes', labelsize=15)    # fontsize of the x and y labels\n",
    "plt.rc('xtick', labelsize=15)    # fontsize of the tick labels\n",
    "plt.rc('ytick', labelsize=15)    # fontsize of the tick labels"
   ]
  },
  {
   "cell_type": "markdown",
   "id": "abb1a8b2",
   "metadata": {},
   "source": [
    "## Load the Data\n"
   ]
  },
  {
   "cell_type": "code",
   "execution_count": 8,
   "id": "dda80443",
   "metadata": {},
   "outputs": [],
   "source": [
    "df_train_eda = pd.read_csv(Path(clean_data_dir, \"df_train_eda.csv\"), index_col=0)\n",
    "df_raw = pd.read_csv(Path(data_dir, \"train.csv\"))\n",
    "df_aux = pd.read_csv(Path(data_dir, \"train_auxiliary_data.csv\"), index_col=0)\n",
    "df_mrt = pd.read_csv(Path(data_dir, \"auxiliary-data\", \"sg-mrt-stations.csv\"))\n",
    "df_add_mrt_coord = pd.read_csv(Path(data_dir, \"additional-data\", \"mrt_lrt_data.csv\"))"
   ]
  },
  {
   "cell_type": "markdown",
   "id": "85c6d4f3",
   "metadata": {},
   "source": [
    "## Merging MRT Information"
   ]
  },
  {
   "cell_type": "markdown",
   "id": "8723a7a0",
   "metadata": {},
   "source": [
    "- Using the mrt auxiliary information, we found the nearest mrt station for each listing.\n",
    "- We mapped the nearest mrt station to the main data that we are using - ``df_train_eda``"
   ]
  },
  {
   "cell_type": "code",
   "execution_count": 9,
   "id": "ef7fb738",
   "metadata": {},
   "outputs": [],
   "source": [
    "df_train_eda_full = merge_mrt_info(df_mrt, df_raw, df_aux, df_train_eda)"
   ]
  },
  {
   "cell_type": "code",
   "execution_count": 10,
   "id": "c8d215ca",
   "metadata": {},
   "outputs": [
    {
     "data": {
      "text/html": [
       "<div>\n",
       "<style scoped>\n",
       "    .dataframe tbody tr th:only-of-type {\n",
       "        vertical-align: middle;\n",
       "    }\n",
       "\n",
       "    .dataframe tbody tr th {\n",
       "        vertical-align: top;\n",
       "    }\n",
       "\n",
       "    .dataframe thead th {\n",
       "        text-align: right;\n",
       "    }\n",
       "</style>\n",
       "<table border=\"1\" class=\"dataframe\">\n",
       "  <thead>\n",
       "    <tr style=\"text-align: right;\">\n",
       "      <th></th>\n",
       "      <th>listing_id</th>\n",
       "      <th>title</th>\n",
       "      <th>address</th>\n",
       "      <th>property_name</th>\n",
       "      <th>property_type</th>\n",
       "      <th>tenure</th>\n",
       "      <th>built_year</th>\n",
       "      <th>num_beds</th>\n",
       "      <th>num_baths</th>\n",
       "      <th>size_sqft</th>\n",
       "      <th>total_num_units</th>\n",
       "      <th>property_details_url</th>\n",
       "      <th>lat</th>\n",
       "      <th>lng</th>\n",
       "      <th>elevation</th>\n",
       "      <th>subzone</th>\n",
       "      <th>planning_area</th>\n",
       "      <th>price</th>\n",
       "      <th>nearest_mrt</th>\n",
       "    </tr>\n",
       "  </thead>\n",
       "  <tbody>\n",
       "    <tr>\n",
       "      <th>0</th>\n",
       "      <td>122881</td>\n",
       "      <td>hdb flat for sale in 866 yishun street 81</td>\n",
       "      <td>sembawang / yishun (d27)</td>\n",
       "      <td>866 yishun street 81</td>\n",
       "      <td>hdb</td>\n",
       "      <td>99-year leasehold</td>\n",
       "      <td>1988</td>\n",
       "      <td>3.0</td>\n",
       "      <td>2.0</td>\n",
       "      <td>1115</td>\n",
       "      <td>116.000000</td>\n",
       "      <td>https://www.99.co/singapore/hdb/866-yishun-str...</td>\n",
       "      <td>1.414399</td>\n",
       "      <td>103.837196</td>\n",
       "      <td>0</td>\n",
       "      <td>yishun south</td>\n",
       "      <td>yishun</td>\n",
       "      <td>514500.0</td>\n",
       "      <td>khatib</td>\n",
       "    </tr>\n",
       "    <tr>\n",
       "      <th>1</th>\n",
       "      <td>259374</td>\n",
       "      <td>hdb flat for sale in 506b serangoon north aven...</td>\n",
       "      <td>hougang / punggol / sengkang (d19)</td>\n",
       "      <td>hdb-serangoon estate</td>\n",
       "      <td>hdb</td>\n",
       "      <td>99-year leasehold</td>\n",
       "      <td>1992</td>\n",
       "      <td>4.0</td>\n",
       "      <td>2.0</td>\n",
       "      <td>1575</td>\n",
       "      <td>375.188982</td>\n",
       "      <td>https://www.99.co/singapore/hdb/hdbserangoon-e...</td>\n",
       "      <td>1.372597</td>\n",
       "      <td>103.875625</td>\n",
       "      <td>0</td>\n",
       "      <td>serangoon north</td>\n",
       "      <td>serangoon</td>\n",
       "      <td>995400.0</td>\n",
       "      <td>kovan</td>\n",
       "    </tr>\n",
       "    <tr>\n",
       "      <th>2</th>\n",
       "      <td>665422</td>\n",
       "      <td>4 bed condo for sale in meyerhouse</td>\n",
       "      <td>128 meyer road</td>\n",
       "      <td>meyerhouse</td>\n",
       "      <td>condo</td>\n",
       "      <td>freehold</td>\n",
       "      <td>2022</td>\n",
       "      <td>4.0</td>\n",
       "      <td>6.0</td>\n",
       "      <td>3070</td>\n",
       "      <td>56.000000</td>\n",
       "      <td>https://www.99.co/singapore/condos-apartments/...</td>\n",
       "      <td>1.298773</td>\n",
       "      <td>103.895798</td>\n",
       "      <td>0</td>\n",
       "      <td>mountbatten</td>\n",
       "      <td>marine parade</td>\n",
       "      <td>8485000.0</td>\n",
       "      <td>dakota</td>\n",
       "    </tr>\n",
       "    <tr>\n",
       "      <th>3</th>\n",
       "      <td>857699</td>\n",
       "      <td>3 bed condo for sale in leedon green</td>\n",
       "      <td>26 leedon heights</td>\n",
       "      <td>leedon green</td>\n",
       "      <td>condo</td>\n",
       "      <td>freehold</td>\n",
       "      <td>2023</td>\n",
       "      <td>3.0</td>\n",
       "      <td>2.0</td>\n",
       "      <td>958</td>\n",
       "      <td>638.000000</td>\n",
       "      <td>https://www.99.co/singapore/condos-apartments/...</td>\n",
       "      <td>1.312364</td>\n",
       "      <td>103.803271</td>\n",
       "      <td>0</td>\n",
       "      <td>farrer court</td>\n",
       "      <td>bukit timah</td>\n",
       "      <td>2626000.0</td>\n",
       "      <td>farrer road</td>\n",
       "    </tr>\n",
       "    <tr>\n",
       "      <th>4</th>\n",
       "      <td>216061</td>\n",
       "      <td>2 bed condo for sale in one bernam</td>\n",
       "      <td>1 bernam street</td>\n",
       "      <td>one bernam</td>\n",
       "      <td>condo</td>\n",
       "      <td>99-year leasehold</td>\n",
       "      <td>2026</td>\n",
       "      <td>2.0</td>\n",
       "      <td>1.0</td>\n",
       "      <td>732</td>\n",
       "      <td>351.000000</td>\n",
       "      <td>https://www.99.co/singapore/condos-apartments/...</td>\n",
       "      <td>1.273959</td>\n",
       "      <td>103.843635</td>\n",
       "      <td>0</td>\n",
       "      <td>anson</td>\n",
       "      <td>downtown core</td>\n",
       "      <td>1764000.0</td>\n",
       "      <td>tanjong pagar</td>\n",
       "    </tr>\n",
       "  </tbody>\n",
       "</table>\n",
       "</div>"
      ],
      "text/plain": [
       "   listing_id                                              title  \\\n",
       "0      122881          hdb flat for sale in 866 yishun street 81   \n",
       "1      259374  hdb flat for sale in 506b serangoon north aven...   \n",
       "2      665422                 4 bed condo for sale in meyerhouse   \n",
       "3      857699               3 bed condo for sale in leedon green   \n",
       "4      216061                 2 bed condo for sale in one bernam   \n",
       "\n",
       "                              address         property_name property_type  \\\n",
       "0            sembawang / yishun (d27)  866 yishun street 81           hdb   \n",
       "1  hougang / punggol / sengkang (d19)  hdb-serangoon estate           hdb   \n",
       "2                      128 meyer road            meyerhouse         condo   \n",
       "3                   26 leedon heights          leedon green         condo   \n",
       "4                     1 bernam street            one bernam         condo   \n",
       "\n",
       "              tenure  built_year  num_beds  num_baths  size_sqft  \\\n",
       "0  99-year leasehold        1988       3.0        2.0       1115   \n",
       "1  99-year leasehold        1992       4.0        2.0       1575   \n",
       "2           freehold        2022       4.0        6.0       3070   \n",
       "3           freehold        2023       3.0        2.0        958   \n",
       "4  99-year leasehold        2026       2.0        1.0        732   \n",
       "\n",
       "   total_num_units                               property_details_url  \\\n",
       "0       116.000000  https://www.99.co/singapore/hdb/866-yishun-str...   \n",
       "1       375.188982  https://www.99.co/singapore/hdb/hdbserangoon-e...   \n",
       "2        56.000000  https://www.99.co/singapore/condos-apartments/...   \n",
       "3       638.000000  https://www.99.co/singapore/condos-apartments/...   \n",
       "4       351.000000  https://www.99.co/singapore/condos-apartments/...   \n",
       "\n",
       "        lat         lng  elevation          subzone  planning_area      price  \\\n",
       "0  1.414399  103.837196          0     yishun south         yishun   514500.0   \n",
       "1  1.372597  103.875625          0  serangoon north      serangoon   995400.0   \n",
       "2  1.298773  103.895798          0      mountbatten  marine parade  8485000.0   \n",
       "3  1.312364  103.803271          0     farrer court    bukit timah  2626000.0   \n",
       "4  1.273959  103.843635          0            anson  downtown core  1764000.0   \n",
       "\n",
       "     nearest_mrt  \n",
       "0         khatib  \n",
       "1          kovan  \n",
       "2         dakota  \n",
       "3    farrer road  \n",
       "4  tanjong pagar  "
      ]
     },
     "execution_count": 10,
     "metadata": {},
     "output_type": "execute_result"
    }
   ],
   "source": [
    "df_train_eda_full.head()"
   ]
  },
  {
   "cell_type": "markdown",
   "id": "220b3390",
   "metadata": {},
   "source": [
    "## Dropping columns that are not useful"
   ]
  },
  {
   "cell_type": "markdown",
   "id": "da3339de",
   "metadata": {},
   "source": [
    "- From the exploratory data analysis done in task 1, we have seen that ``Elevation`` is a constant column so we will also drop it.\n",
    "- We feel that users will not consider information such as ``property_details_url`` and ``total_num_units`` when they are making a purchase so we will drop those. \n",
    "- We will also drop ``subzone`` and ``planning_area`` since we are going to use ``nearest_mrt`` as our main location identifier"
   ]
  },
  {
   "cell_type": "code",
   "execution_count": 11,
   "id": "7e686c32",
   "metadata": {},
   "outputs": [],
   "source": [
    "cols_to_drop = [\"property_details_url\", \"total_num_units\", \"subzone\", \"elevation\", \"planning_area\"]\n",
    "df_train_eda_full = df_train_eda_full.drop(cols_to_drop, axis=1)"
   ]
  },
  {
   "cell_type": "markdown",
   "id": "28ca3a67",
   "metadata": {},
   "source": [
    "## Features Transformation"
   ]
  },
  {
   "cell_type": "markdown",
   "id": "7330a993",
   "metadata": {},
   "source": [
    "To enhance user's experience when looking for a flat, we decided to categorize some key features that we believe users will have a preference over. We looked at the distribution of these features to decide on a suitable binning category.\n",
    "\n",
    "- **built_year**: ``built_year`` contains units for future sale (those beyond current year). We could create another column to indicate whether this is a resale or new sale so that our users can select their preference. \n",
    "- **price**: We feel that when looking for a flat, a user would most likely have a budget in mind. Hence, we decided to split the ``price`` into different bins so that it is more convenient for them. We used the summary statistics to decide on the range to bin.\n",
    "- **size_sqft**: Similar to price, we also split the ``size_sqft`` into different bins.\n",
    "- **remaining_lease**: For HDB with 99 year leasehold, buyers usually want to take into account the remaining lease. We create ``remaining_lease`` by calculating the number of lease years remaining. For non-HDB, their value will be *Non-HDB* since there is no remaining lease for non-HDBs"
   ]
  },
  {
   "cell_type": "markdown",
   "id": "a2072465",
   "metadata": {},
   "source": [
    "We will keep the uncateogrized features as they contain a more accurate information for the users"
   ]
  },
  {
   "cell_type": "code",
   "execution_count": 12,
   "id": "6144d730",
   "metadata": {},
   "outputs": [
    {
     "data": {
      "text/html": [
       "<div>\n",
       "<style scoped>\n",
       "    .dataframe tbody tr th:only-of-type {\n",
       "        vertical-align: middle;\n",
       "    }\n",
       "\n",
       "    .dataframe tbody tr th {\n",
       "        vertical-align: top;\n",
       "    }\n",
       "\n",
       "    .dataframe thead th {\n",
       "        text-align: right;\n",
       "    }\n",
       "</style>\n",
       "<table border=\"1\" class=\"dataframe\">\n",
       "  <thead>\n",
       "    <tr style=\"text-align: right;\">\n",
       "      <th></th>\n",
       "      <th>listing_id</th>\n",
       "      <th>title</th>\n",
       "      <th>address</th>\n",
       "      <th>property_name</th>\n",
       "      <th>property_type</th>\n",
       "      <th>tenure</th>\n",
       "      <th>built_year</th>\n",
       "      <th>num_beds</th>\n",
       "      <th>num_baths</th>\n",
       "      <th>size_sqft</th>\n",
       "      <th>lat</th>\n",
       "      <th>lng</th>\n",
       "      <th>price</th>\n",
       "      <th>nearest_mrt</th>\n",
       "      <th>sales_type</th>\n",
       "      <th>price_cat</th>\n",
       "      <th>size_cat</th>\n",
       "      <th>remaining_lease</th>\n",
       "      <th>lease_cat</th>\n",
       "    </tr>\n",
       "  </thead>\n",
       "  <tbody>\n",
       "    <tr>\n",
       "      <th>0</th>\n",
       "      <td>122881</td>\n",
       "      <td>hdb flat for sale in 866 yishun street 81</td>\n",
       "      <td>sembawang / yishun (d27)</td>\n",
       "      <td>866 yishun street 81</td>\n",
       "      <td>hdb</td>\n",
       "      <td>99-year leasehold</td>\n",
       "      <td>1988</td>\n",
       "      <td>3.0</td>\n",
       "      <td>2.0</td>\n",
       "      <td>1115</td>\n",
       "      <td>1.414399</td>\n",
       "      <td>103.837196</td>\n",
       "      <td>514500.0</td>\n",
       "      <td>khatib</td>\n",
       "      <td>Resale</td>\n",
       "      <td>500K-700K</td>\n",
       "      <td>Below 2000</td>\n",
       "      <td>65</td>\n",
       "      <td>60-70</td>\n",
       "    </tr>\n",
       "    <tr>\n",
       "      <th>1</th>\n",
       "      <td>259374</td>\n",
       "      <td>hdb flat for sale in 506b serangoon north aven...</td>\n",
       "      <td>hougang / punggol / sengkang (d19)</td>\n",
       "      <td>hdb-serangoon estate</td>\n",
       "      <td>hdb</td>\n",
       "      <td>99-year leasehold</td>\n",
       "      <td>1992</td>\n",
       "      <td>4.0</td>\n",
       "      <td>2.0</td>\n",
       "      <td>1575</td>\n",
       "      <td>1.372597</td>\n",
       "      <td>103.875625</td>\n",
       "      <td>995400.0</td>\n",
       "      <td>kovan</td>\n",
       "      <td>Resale</td>\n",
       "      <td>Above 900K</td>\n",
       "      <td>Below 2000</td>\n",
       "      <td>69</td>\n",
       "      <td>60-70</td>\n",
       "    </tr>\n",
       "    <tr>\n",
       "      <th>2</th>\n",
       "      <td>665422</td>\n",
       "      <td>4 bed condo for sale in meyerhouse</td>\n",
       "      <td>128 meyer road</td>\n",
       "      <td>meyerhouse</td>\n",
       "      <td>condo</td>\n",
       "      <td>freehold</td>\n",
       "      <td>2022</td>\n",
       "      <td>4.0</td>\n",
       "      <td>6.0</td>\n",
       "      <td>3070</td>\n",
       "      <td>1.298773</td>\n",
       "      <td>103.895798</td>\n",
       "      <td>8485000.0</td>\n",
       "      <td>dakota</td>\n",
       "      <td>Resale</td>\n",
       "      <td>Above 900K</td>\n",
       "      <td>2000-5000</td>\n",
       "      <td>999</td>\n",
       "      <td>Non-HDB</td>\n",
       "    </tr>\n",
       "    <tr>\n",
       "      <th>3</th>\n",
       "      <td>857699</td>\n",
       "      <td>3 bed condo for sale in leedon green</td>\n",
       "      <td>26 leedon heights</td>\n",
       "      <td>leedon green</td>\n",
       "      <td>condo</td>\n",
       "      <td>freehold</td>\n",
       "      <td>2023</td>\n",
       "      <td>3.0</td>\n",
       "      <td>2.0</td>\n",
       "      <td>958</td>\n",
       "      <td>1.312364</td>\n",
       "      <td>103.803271</td>\n",
       "      <td>2626000.0</td>\n",
       "      <td>farrer road</td>\n",
       "      <td>New</td>\n",
       "      <td>Above 900K</td>\n",
       "      <td>Below 2000</td>\n",
       "      <td>999</td>\n",
       "      <td>Non-HDB</td>\n",
       "    </tr>\n",
       "    <tr>\n",
       "      <th>4</th>\n",
       "      <td>216061</td>\n",
       "      <td>2 bed condo for sale in one bernam</td>\n",
       "      <td>1 bernam street</td>\n",
       "      <td>one bernam</td>\n",
       "      <td>condo</td>\n",
       "      <td>99-year leasehold</td>\n",
       "      <td>2026</td>\n",
       "      <td>2.0</td>\n",
       "      <td>1.0</td>\n",
       "      <td>732</td>\n",
       "      <td>1.273959</td>\n",
       "      <td>103.843635</td>\n",
       "      <td>1764000.0</td>\n",
       "      <td>tanjong pagar</td>\n",
       "      <td>New</td>\n",
       "      <td>Above 900K</td>\n",
       "      <td>Below 2000</td>\n",
       "      <td>999</td>\n",
       "      <td>Non-HDB</td>\n",
       "    </tr>\n",
       "  </tbody>\n",
       "</table>\n",
       "</div>"
      ],
      "text/plain": [
       "   listing_id                                              title  \\\n",
       "0      122881          hdb flat for sale in 866 yishun street 81   \n",
       "1      259374  hdb flat for sale in 506b serangoon north aven...   \n",
       "2      665422                 4 bed condo for sale in meyerhouse   \n",
       "3      857699               3 bed condo for sale in leedon green   \n",
       "4      216061                 2 bed condo for sale in one bernam   \n",
       "\n",
       "                              address         property_name property_type  \\\n",
       "0            sembawang / yishun (d27)  866 yishun street 81           hdb   \n",
       "1  hougang / punggol / sengkang (d19)  hdb-serangoon estate           hdb   \n",
       "2                      128 meyer road            meyerhouse         condo   \n",
       "3                   26 leedon heights          leedon green         condo   \n",
       "4                     1 bernam street            one bernam         condo   \n",
       "\n",
       "              tenure  built_year  num_beds  num_baths  size_sqft       lat  \\\n",
       "0  99-year leasehold        1988       3.0        2.0       1115  1.414399   \n",
       "1  99-year leasehold        1992       4.0        2.0       1575  1.372597   \n",
       "2           freehold        2022       4.0        6.0       3070  1.298773   \n",
       "3           freehold        2023       3.0        2.0        958  1.312364   \n",
       "4  99-year leasehold        2026       2.0        1.0        732  1.273959   \n",
       "\n",
       "          lng      price    nearest_mrt sales_type   price_cat    size_cat  \\\n",
       "0  103.837196   514500.0         khatib     Resale   500K-700K  Below 2000   \n",
       "1  103.875625   995400.0          kovan     Resale  Above 900K  Below 2000   \n",
       "2  103.895798  8485000.0         dakota     Resale  Above 900K   2000-5000   \n",
       "3  103.803271  2626000.0    farrer road        New  Above 900K  Below 2000   \n",
       "4  103.843635  1764000.0  tanjong pagar        New  Above 900K  Below 2000   \n",
       "\n",
       "   remaining_lease lease_cat  \n",
       "0               65     60-70  \n",
       "1               69     60-70  \n",
       "2              999   Non-HDB  \n",
       "3              999   Non-HDB  \n",
       "4              999   Non-HDB  "
      ]
     },
     "execution_count": 12,
     "metadata": {},
     "output_type": "execute_result"
    }
   ],
   "source": [
    "df_train_eda_full = cat_sales_type(df_train_eda_full)\n",
    "df_train_eda_full = cat_price(df_train_eda_full)\n",
    "df_train_eda_full = cat_size(df_train_eda_full)\n",
    "df_train_eda_full = cat_lease(df_train_eda_full)\n",
    "df_train_eda_full.head()"
   ]
  },
  {
   "cell_type": "markdown",
   "id": "3ec513a2",
   "metadata": {},
   "source": [
    "## Methodology"
   ]
  },
  {
   "cell_type": "markdown",
   "id": "44f1cb56",
   "metadata": {},
   "source": [
    "Our approach is as follows:   \n",
    "\n",
    "**1. New user**\n",
    "- When users first \"use\" our recommendation system, we do not know what the users are interested in. Thus, we will first have them input their preferred location since we believe location is one of their top consideration when looking for a flat.\n",
    "- There could be instances where our listings do not contain their preferred location. To account for such situation, we will perform KMeans clustering on the latitude and longitude to look for nearby units that are close to their preferred location.\n",
    "- After filtering the location, we will ask the user to input their preferred sales_type (new or resale), price range, size range, number of bedrooms, number of bathrooms and lease category. We then compute the cosine similarity of this encoded dataframe. We will then show them the top K listings according to the cosine similarity score.\n",
    "\n",
    "**2. Keeping track of user's history**\n",
    "- After users are shown the top listings based on their preference, we will start keeping track of theirbrowsing history by storing the ``listing_id`` of browsed listings. Since we have no way to know what they have browsed, we will just randomly pick an index from what they were shown and treat it as their browsed listing. \n",
    "\n",
    "**3. Identify similar listings**\n",
    "- Using their browsing history together with their preference, we will identify similar listings based on the cosine similarity score."
   ]
  },
  {
   "cell_type": "markdown",
   "id": "3cc44197",
   "metadata": {},
   "source": [
    "## Location filter"
   ]
  },
  {
   "cell_type": "markdown",
   "id": "bb2d9e2e",
   "metadata": {},
   "source": [
    "As mentioned in our methodology, we believe that the location is one of the top consideration for users when looking for a flat. As such, we don't want to just limit them to what they indicate. We want to also show them nearby listings for their consideration. \n",
    "\n",
    "We chose the number of cluster based on the size of each cluster. The size shouldn't be too big as we want to make sure we only consider units that are nearby the preferred location of the user. The size also should'nt be too small as we want to give our users more options. After experimenting, we found 10 clusters to be ideal."
   ]
  },
  {
   "cell_type": "code",
   "execution_count": 13,
   "id": "f2dfc016",
   "metadata": {},
   "outputs": [
    {
     "name": "stdout",
     "output_type": "stream",
     "text": [
      "Saving figure kmeans_location\n"
     ]
    },
    {
     "data": {
      "image/png": "[encoded data removed]",
      "text/plain": [
       "<Figure size 864x576 with 1 Axes>"
      ]
     },
     "metadata": {
      "needs_background": "light"
     },
     "output_type": "display_data"
    }
   ],
   "source": [
    "df_recommend_full = df_train_eda_full.copy()\n",
    "df_lat_lng_full = df_recommend_full.loc[:,[\"lat\", \"lng\"]]\n",
    "kmeans = KMeans(n_clusters=10, random_state=0).fit(df_lat_lng_full)\n",
    "plot_clusters(kmeans, df_lat_lng_full, \"Longitude\", \"Latitude\", img_dir)"
   ]
  },
  {
   "cell_type": "markdown",
   "id": "982fa28e",
   "metadata": {},
   "source": [
    "- After deciding on the number of clusters, we will proceed to create our ``filtered_location`` function which takes the user's preferred location and returns nearby listings. ``filtered_location`` is found in ``task2_preprocessing.py``"
   ]
  },
  {
   "cell_type": "markdown",
   "id": "91aab608",
   "metadata": {},
   "source": [
    "## User's Preference"
   ]
  },
  {
   "cell_type": "markdown",
   "id": "6b285f7f",
   "metadata": {},
   "source": [
    "Users have to input their following preferences based on the following selections. As mentioned, we looked at the distribution of the features to decide on the binning category.\n",
    "- **preferred_sales_type**: \"Resale\", \"New\"  \n",
    "- **preferred_price_cat**: \"Below 300K\", \"300K-500K\", \"500K-700K\", \"700K-900K\", \"Above 900K\"  \n",
    "- **preferred_size_cat**: \"Below 2000\", \"2000-5000\", \"5000-8000\", \"8000-10000\", \"Above 10000\"\n",
    "- **preferred_num_beds**: 1, 2, 3, 4, 5, 6, 7, 8, 9, 10\n",
    "- **preferred_num_baths**: 1, 2, 3, 4, 5, 6, 7, 8, 9, 10\n",
    "- **preferred_remaining_lease**: \"Below 60\", \"60-70\", \"70-80\", \"80-90\", \"90-99\", \"Non-HDB\"\n",
    "\n",
    "We created a ``preference`` function that takes in the user's preferences. ``preference`` is found in ``task2_preprocessing.py``"
   ]
  },
  {
   "cell_type": "markdown",
   "id": "ea034702",
   "metadata": {},
   "source": [
    "## Encoding"
   ]
  },
  {
   "cell_type": "markdown",
   "id": "23e6d4dd",
   "metadata": {},
   "source": [
    "In order to compute the cosine similarity score, we have to first encode our dataframe. We use one hot encoding here as cosine similarity is beneficial for applications that utilizes sparse data and shouldn't be a problem for our purpose. We created a ``encode`` function to one hot encode the data. ``encode`` is found in ``task2_preprocessing.py``"
   ]
  },
  {
   "cell_type": "markdown",
   "id": "b463ce7d",
   "metadata": {},
   "source": [
    "## Similarity Matrix"
   ]
  },
  {
   "cell_type": "markdown",
   "id": "cf87ba4b",
   "metadata": {},
   "source": [
    "We created a ``similarity_matrix`` function that computes the cosine similarity of the encoded data. ``similarity_matrix`` is found in ``task2_preprocessing.py``"
   ]
  },
  {
   "cell_type": "markdown",
   "id": "8eb9307b",
   "metadata": {},
   "source": [
    "## Identify Top Listings"
   ]
  },
  {
   "cell_type": "markdown",
   "id": "5dd5013f",
   "metadata": {},
   "source": [
    "For new user, we are only interested in the similarity between the user's preference (inputted in the beginning) with respect to other listings so we will only take the a subset of the cosine similarity matrix. For example, for a new user, he will input one set of preference. We have already appended his preference to the main listings dataset before calculating the similarity index. Since there is only one set of preference and the appended preference will appear as the last row in the similarity matrix, we will only be looking at the last row.\n",
    "\n",
    "For user's browsed history later on, depending on the number of listings the user browsed, we will be looking at more than one row. In addition, since it is also possible that a particular listing appear more than once as the recommended listings, we will take the average similarity.\n",
    "\n",
    "We created a ``identify_top_listings`` function that takes in the main data where recommendations are obtained from, the cosine similarity matrix, the number of recommended listings as well as the number of preferences.\n",
    "\n",
    "``identify_top_listings`` is found in ``task2_preprocessing.py``\n",
    "\n"
   ]
  },
  {
   "cell_type": "markdown",
   "id": "878bbc97",
   "metadata": {},
   "source": [
    "## Keeping track of user's browsing history"
   ]
  },
  {
   "cell_type": "markdown",
   "id": "2b0e1243",
   "metadata": {},
   "source": [
    "We created a function ``store_browsing_history`` that takes in a list of browsed listings and the dataframe that was shown to the user.\n",
    "- Since we have no idea which listing the user will click, we just randomly generate a number and assumed that the user clicked on that listing.\n",
    "\n",
    "``store_browsing_history`` is found in ``task2_preprocessing.py``"
   ]
  },
  {
   "cell_type": "markdown",
   "id": "730c0d08",
   "metadata": {},
   "source": [
    "## Browsing history recommnedation"
   ]
  },
  {
   "cell_type": "markdown",
   "id": "fc4e504a",
   "metadata": {},
   "source": [
    "As we do not want to limit the number of choices to just the user's stated preferences, we took into account their browsed history and also recommend them listings that are similar to their browsed history.\n",
    "\n",
    "Since we want to give our users selections beyond their preferred cluster (location), we will recommend more listings based on their browsing history. For example, if the user entered a location that is from cluster 2, browsed a listing, then entered location from cluster 4 and browsed a listing, if the user enters another location from cluster 6, we will not only show him listings from cluster 6 but also similar listings from cluster 2 and 4.\n",
    "\n",
    "We created a ``browsing_history_recommendation`` function to identify similar listings that are outside of their preferred cluster based on their browsing history.\n",
    "\n",
    "``browsing_history_recommendation`` is found in ``task2_preprocessing.py``"
   ]
  },
  {
   "cell_type": "markdown",
   "id": "925bc340",
   "metadata": {},
   "source": [
    "## Recommendation"
   ]
  },
  {
   "cell_type": "markdown",
   "id": "34ed2bad",
   "metadata": {},
   "source": [
    "Here, we put together all the building blocks and present our final recommendation system!"
   ]
  },
  {
   "cell_type": "code",
   "execution_count": 24,
   "id": "8c79153a",
   "metadata": {},
   "outputs": [],
   "source": [
    "def get_top_recommendations(df_recommend_full, pref_location, pref_sales_type, pref_price_cat, pref_size_cat, pref_num_beds, \n",
    "                            pref_num_baths, pref_lease_cat, top_recommend_num):\n",
    "\n",
    "    # filter select based on location\n",
    "    df_recommend_full_cluster, df_location, new_point_cluster = filtered_location(df_recommend_full, df_add_mrt_coord, pref_location)\n",
    "    \n",
    "    # user's preference\n",
    "    df_pref = preference(pref_sales_type, pref_price_cat, pref_size_cat, pref_num_beds, pref_num_baths, pref_lease_cat, new_point_cluster) \n",
    "    \n",
    "    # one hot encode user's preference and add to the main df_location dataframe\n",
    "    df_encode = encode(df_location, df_pref)\n",
    "    \n",
    "    # get cosine similarity score\n",
    "    sim_matrix = similarity_matrix(df_encode)\n",
    "    \n",
    "    # identify top listings\n",
    "    df_top_listings = identify_top_listings(df_location, sim_matrix, top_recommend_num, df_pref.shape[0])\n",
    "\n",
    "    # show users only default information\n",
    "    #df_top_listings = df_top_listings.drop([\"sales_type\", \"price_cat\", \"size_cat\", \"remaining_lease\", \"lease_cat\"], axis=1)\n",
    "    # sort listings based on similarity score\n",
    "    df_top_listings = df_top_listings.sort_values(by=\"sim_score\", ascending=False)\n",
    "    \n",
    "    # assume user clicked on the some random listing\n",
    "    browsed_listings = store_browsing_history(browsed_list, df_top_listings)\n",
    "    \n",
    "    # in the event there are duplicates in the browsed_listings, remove it\n",
    "    browsed_listings = list(set(browsed_listings))\n",
    "    \n",
    "    # we fixed the number of recommendation for browsed history to 10 to give users sufficient choices\n",
    "    # beyond what they inputted (find similar listings not subjected to location)\n",
    "    df_top_browsed_listings = browsing_history_recommendation(browsed_listings, df_recommend_full_cluster, 10)\n",
    "\n",
    "    # finally, we will group all the top listings into one final dataframe\n",
    "    df_final_recommended_listings = df_top_listings.append(df_top_browsed_listings)\n",
    "    df_final_recommended_listings = df_final_recommended_listings.sort_values(by=\"sim_score\", ascending=False)\n",
    "    \n",
    "    # remove duplicated listings\n",
    "    df_final_recommended_listings = df_final_recommended_listings.drop_duplicates()\n",
    "    \n",
    "    # show top 10 listings\n",
    "    df_final_recommended_listings = df_final_recommended_listings.head(top_recommend_num)\n",
    "    return df_final_recommended_listings\n"
   ]
  },
  {
   "cell_type": "markdown",
   "id": "8b9c3a49",
   "metadata": {},
   "source": [
    "## Testing the Recommendation Engine"
   ]
  },
  {
   "cell_type": "code",
   "execution_count": 25,
   "id": "f0d44745",
   "metadata": {},
   "outputs": [],
   "source": [
    "# list to store all browsed listings (do not re run this cell when \n",
    "# testing as we want to keep all the \"browsed\" listings)\n",
    "browsed_list = []"
   ]
  },
  {
   "cell_type": "markdown",
   "id": "4363f247",
   "metadata": {},
   "source": [
    "Users have to input these choices when testing out the recommendation engine\n",
    "\n",
    "- **preferred_location**: A valid MRT station name. If invalid, exception raised.\n",
    "- **preferred_sales_type**: \"Resale\", \"New\"  \n",
    "- **preferred_price_cat**: \"Below 300K\", \"300K-500K\", \"500K-700K\", \"700K-900K\", \"Above 900K\"  \n",
    "- **preferred_size_cat**: \"Below 2000\", \"2000-5000\", \"5000-8000\", \"8000-10000\", \"Above 10000\"\n",
    "- **preferred_num_beds**: 1, 2, 3, 4, 5, 6, 7, 8, 9, 10\n",
    "- **preferred_num_baths**: 1, 2, 3, 4, 5, 6, 7, 8, 9, 10\n",
    "- **preferred_remaining_lease**: \"Below 60\", \"60-70\", \"70-80\", \"80-90\", \"90-99\", \"Non-HDB\""
   ]
  },
  {
   "cell_type": "markdown",
   "id": "fc164c82",
   "metadata": {},
   "source": [
    "Feel free to run the function multiple times to see different results"
   ]
  },
  {
   "cell_type": "code",
   "execution_count": 26,
   "id": "0f2cf58c",
   "metadata": {},
   "outputs": [],
   "source": [
    "df_final_recommended_listings = get_top_recommendations(df_recommend_full, \n",
    "                                                            pref_location=\"Jurong East\", \n",
    "                                                            pref_sales_type=\"Resale\", \n",
    "                                                            pref_price_cat= \"500K-700K\", \n",
    "                                                            pref_size_cat=\"Below 2000\", \n",
    "                                                            pref_num_beds=3, \n",
    "                                                            pref_num_baths=2, \n",
    "                                                            pref_lease_cat=\"80-90\", \n",
    "                                                            top_recommend_num=5)"
   ]
  },
  {
   "cell_type": "code",
   "execution_count": 28,
   "id": "ba1d1fbf",
   "metadata": {},
   "outputs": [],
   "source": [
    "df_final_recommended_listings = get_top_recommendations(df_recommend_full, \n",
    "                                                            pref_location=\"tampines\", \n",
    "                                                            pref_sales_type=\"Resale\", \n",
    "                                                            pref_price_cat= \"500K-700K\", \n",
    "                                                            pref_size_cat=\"Below 2000\", \n",
    "                                                            pref_num_beds=3, \n",
    "                                                            pref_num_baths=2, \n",
    "                                                            pref_lease_cat=\"80-90\", \n",
    "                                                            top_recommend_num=5)"
   ]
  },
  {
   "cell_type": "code",
   "execution_count": 30,
   "id": "e0cd70e1",
   "metadata": {},
   "outputs": [],
   "source": [
    "df_final_recommended_listings = get_top_recommendations(df_recommend_full, \n",
    "                                                            pref_location=\"woodlands\", \n",
    "                                                            pref_sales_type=\"Resale\", \n",
    "                                                            pref_price_cat= \"Below 300K\", \n",
    "                                                            pref_size_cat=\"Below 2000\", \n",
    "                                                            pref_num_beds=3, \n",
    "                                                            pref_num_baths=2, \n",
    "                                                            pref_lease_cat=\"80-90\", \n",
    "                                                            top_recommend_num=5)"
   ]
  },
  {
   "cell_type": "code",
   "execution_count": 32,
   "id": "f733caa8",
   "metadata": {},
   "outputs": [
    {
     "data": {
      "text/html": [
       "<div>\n",
       "<style scoped>\n",
       "    .dataframe tbody tr th:only-of-type {\n",
       "        vertical-align: middle;\n",
       "    }\n",
       "\n",
       "    .dataframe tbody tr th {\n",
       "        vertical-align: top;\n",
       "    }\n",
       "\n",
       "    .dataframe thead th {\n",
       "        text-align: right;\n",
       "    }\n",
       "</style>\n",
       "<table border=\"1\" class=\"dataframe\">\n",
       "  <thead>\n",
       "    <tr style=\"text-align: right;\">\n",
       "      <th></th>\n",
       "      <th>listing_id</th>\n",
       "      <th>title</th>\n",
       "      <th>address</th>\n",
       "      <th>property_name</th>\n",
       "      <th>property_type</th>\n",
       "      <th>tenure</th>\n",
       "      <th>built_year</th>\n",
       "      <th>num_beds</th>\n",
       "      <th>num_baths</th>\n",
       "      <th>size_sqft</th>\n",
       "      <th>lat</th>\n",
       "      <th>lng</th>\n",
       "      <th>price</th>\n",
       "      <th>nearest_mrt</th>\n",
       "      <th>sales_type</th>\n",
       "      <th>price_cat</th>\n",
       "      <th>size_cat</th>\n",
       "      <th>remaining_lease</th>\n",
       "      <th>lease_cat</th>\n",
       "      <th>cluster</th>\n",
       "      <th>sim_score</th>\n",
       "    </tr>\n",
       "  </thead>\n",
       "  <tbody>\n",
       "    <tr>\n",
       "      <th>502</th>\n",
       "      <td>570027</td>\n",
       "      <td>hdb flat for sale in 348d yishun avenue 11</td>\n",
       "      <td>sembawang / yishun (d27)</td>\n",
       "      <td>adora green</td>\n",
       "      <td>hdb</td>\n",
       "      <td>99-year leasehold</td>\n",
       "      <td>2013</td>\n",
       "      <td>3.0</td>\n",
       "      <td>2.0</td>\n",
       "      <td>990</td>\n",
       "      <td>1.427086</td>\n",
       "      <td>103.842788</td>\n",
       "      <td>753900.0</td>\n",
       "      <td>yishun</td>\n",
       "      <td>Resale</td>\n",
       "      <td>700K-900K</td>\n",
       "      <td>Below 2000</td>\n",
       "      <td>90</td>\n",
       "      <td>80-90</td>\n",
       "      <td>5</td>\n",
       "      <td>0.8</td>\n",
       "    </tr>\n",
       "    <tr>\n",
       "      <th>16857</th>\n",
       "      <td>862524</td>\n",
       "      <td>hdb flat for sale in 185 bedok north road</td>\n",
       "      <td>bedok / upper east coast (d16)</td>\n",
       "      <td>vista 8</td>\n",
       "      <td>hdb</td>\n",
       "      <td>99-year leasehold</td>\n",
       "      <td>2005</td>\n",
       "      <td>3.0</td>\n",
       "      <td>2.0</td>\n",
       "      <td>990</td>\n",
       "      <td>1.326221</td>\n",
       "      <td>103.940814</td>\n",
       "      <td>661500.0</td>\n",
       "      <td>tanah merah</td>\n",
       "      <td>Resale</td>\n",
       "      <td>500K-700K</td>\n",
       "      <td>Below 2000</td>\n",
       "      <td>82</td>\n",
       "      <td>80-90</td>\n",
       "      <td>7</td>\n",
       "      <td>0.8</td>\n",
       "    </tr>\n",
       "    <tr>\n",
       "      <th>11644</th>\n",
       "      <td>662291</td>\n",
       "      <td>hdb flat for sale in 675a jurong west street 64</td>\n",
       "      <td>boon lay / jurong / tuas (d22)</td>\n",
       "      <td>[email protected]</td>\n",
       "      <td>hdb</td>\n",
       "      <td>99-year leasehold</td>\n",
       "      <td>2008</td>\n",
       "      <td>3.0</td>\n",
       "      <td>2.0</td>\n",
       "      <td>979</td>\n",
       "      <td>1.345434</td>\n",
       "      <td>103.703541</td>\n",
       "      <td>525000.0</td>\n",
       "      <td>boon lay</td>\n",
       "      <td>Resale</td>\n",
       "      <td>500K-700K</td>\n",
       "      <td>Below 2000</td>\n",
       "      <td>85</td>\n",
       "      <td>80-90</td>\n",
       "      <td>6</td>\n",
       "      <td>0.8</td>\n",
       "    </tr>\n",
       "    <tr>\n",
       "      <th>13382</th>\n",
       "      <td>758977</td>\n",
       "      <td>hdb flat for sale in 182 bedok north road</td>\n",
       "      <td>bedok / upper east coast (d16)</td>\n",
       "      <td>vista 8</td>\n",
       "      <td>hdb</td>\n",
       "      <td>99-year leasehold</td>\n",
       "      <td>2006</td>\n",
       "      <td>3.0</td>\n",
       "      <td>2.0</td>\n",
       "      <td>915</td>\n",
       "      <td>1.326934</td>\n",
       "      <td>103.941658</td>\n",
       "      <td>651000.0</td>\n",
       "      <td>tanah merah</td>\n",
       "      <td>Resale</td>\n",
       "      <td>500K-700K</td>\n",
       "      <td>Below 2000</td>\n",
       "      <td>83</td>\n",
       "      <td>80-90</td>\n",
       "      <td>7</td>\n",
       "      <td>0.8</td>\n",
       "    </tr>\n",
       "    <tr>\n",
       "      <th>917</th>\n",
       "      <td>580300</td>\n",
       "      <td>hdb flat for sale in 348a yishun avenue 11</td>\n",
       "      <td>sembawang / yishun (d27)</td>\n",
       "      <td>adora green</td>\n",
       "      <td>hdb</td>\n",
       "      <td>99-year leasehold</td>\n",
       "      <td>2013</td>\n",
       "      <td>3.0</td>\n",
       "      <td>2.0</td>\n",
       "      <td>990</td>\n",
       "      <td>1.427451</td>\n",
       "      <td>103.841356</td>\n",
       "      <td>682500.0</td>\n",
       "      <td>yishun</td>\n",
       "      <td>Resale</td>\n",
       "      <td>500K-700K</td>\n",
       "      <td>Below 2000</td>\n",
       "      <td>90</td>\n",
       "      <td>80-90</td>\n",
       "      <td>5</td>\n",
       "      <td>0.8</td>\n",
       "    </tr>\n",
       "  </tbody>\n",
       "</table>\n",
       "</div>"
      ],
      "text/plain": [
       "       listing_id                                            title  \\\n",
       "502        570027       hdb flat for sale in 348d yishun avenue 11   \n",
       "16857      862524        hdb flat for sale in 185 bedok north road   \n",
       "11644      662291  hdb flat for sale in 675a jurong west street 64   \n",
       "13382      758977        hdb flat for sale in 182 bedok north road   \n",
       "917        580300       hdb flat for sale in 348a yishun avenue 11   \n",
       "\n",
       "                              address      property_name property_type  \\\n",
       "502          sembawang / yishun (d27)        adora green           hdb   \n",
       "16857  bedok / upper east coast (d16)            vista 8           hdb   \n",
       "11644  boon lay / jurong / tuas (d22)  [email protected]           hdb   \n",
       "13382  bedok / upper east coast (d16)            vista 8           hdb   \n",
       "917          sembawang / yishun (d27)        adora green           hdb   \n",
       "\n",
       "                  tenure  built_year  num_beds  num_baths  size_sqft  \\\n",
       "502    99-year leasehold        2013       3.0        2.0        990   \n",
       "16857  99-year leasehold        2005       3.0        2.0        990   \n",
       "11644  99-year leasehold        2008       3.0        2.0        979   \n",
       "13382  99-year leasehold        2006       3.0        2.0        915   \n",
       "917    99-year leasehold        2013       3.0        2.0        990   \n",
       "\n",
       "            lat         lng     price  nearest_mrt sales_type  price_cat  \\\n",
       "502    1.427086  103.842788  753900.0       yishun     Resale  700K-900K   \n",
       "16857  1.326221  103.940814  661500.0  tanah merah     Resale  500K-700K   \n",
       "11644  1.345434  103.703541  525000.0     boon lay     Resale  500K-700K   \n",
       "13382  1.326934  103.941658  651000.0  tanah merah     Resale  500K-700K   \n",
       "917    1.427451  103.841356  682500.0       yishun     Resale  500K-700K   \n",
       "\n",
       "         size_cat  remaining_lease lease_cat  cluster  sim_score  \n",
       "502    Below 2000               90     80-90        5        0.8  \n",
       "16857  Below 2000               82     80-90        7        0.8  \n",
       "11644  Below 2000               85     80-90        6        0.8  \n",
       "13382  Below 2000               83     80-90        7        0.8  \n",
       "917    Below 2000               90     80-90        5        0.8  "
      ]
     },
     "execution_count": 32,
     "metadata": {},
     "output_type": "execute_result"
    }
   ],
   "source": [
    "df_final_recommended_listings"
   ]
  }
 ],
 "metadata": {
  "kernelspec": {
   "display_name": "Python 3.8.5 ('tensorflow-gpu')",
   "language": "python",
   "name": "python3"
  },
  "language_info": {
   "codemirror_mode": {
    "name": "ipython",
    "version": 3
   },
   "file_extension": ".py",
   "mimetype": "text/x-python",
   "name": "python",
   "nbconvert_exporter": "python",
   "pygments_lexer": "ipython3",
   "version": "3.8.5"
  },
  "vscode": {
   "interpreter": {
    "hash": "eb5db5e69cbba06ac89a1590ec73231baad4b2563d81e8260f8e57174d6de7b8"
   }
  }
 },
 "nbformat": 4,
 "nbformat_minor": 5
}
