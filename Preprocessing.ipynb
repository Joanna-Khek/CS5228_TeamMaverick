{
 "cells": [
  {
   "cell_type": "markdown",
   "metadata": {},
   "source": [
    "# Preprocessing"
   ]
  },
  {
   "cell_type": "code",
   "execution_count": 1,
   "metadata": {},
   "outputs": [],
   "source": [
    "%load_ext autoreload\n",
    "%autoreload 2\n",
    "%matplotlib inline"
   ]
  },
  {
   "cell_type": "code",
   "execution_count": 60,
   "metadata": {},
   "outputs": [],
   "source": [
    "import pandas as pd\n",
    "import numpy as np\n",
    "from pathlib import Path\n",
    "from sklearn.feature_selection import mutual_info_regression\n",
    "import matplotlib.pyplot as plt\n",
    "import seaborn as sns\n",
    "import pickle\n",
    "from src.utils import check_shape, highlight_top, missing_values_table, save_fig, make_mi_scores, plot_mi_scores\n",
    "from src.preprocessing import clean_property_type, clean_tenure, fill_missing_values, update_data, drop_columns, create_features"
   ]
  },
  {
   "cell_type": "code",
   "execution_count": 44,
   "metadata": {},
   "outputs": [],
   "source": [
    "pd.set_option('display.max_columns', None)"
   ]
  },
  {
   "cell_type": "code",
   "execution_count": 45,
   "metadata": {},
   "outputs": [],
   "source": [
    "data_dir = Path(\"./raw_data/\")\n",
    "img_dir = Path(\"./images/\")"
   ]
  },
  {
   "cell_type": "code",
   "execution_count": 46,
   "metadata": {},
   "outputs": [],
   "source": [
    "df_train = pd.read_csv(\"clean_data/df_train_eda.csv\", index_col=0)\n",
    "df_test = pd.read_csv(Path(data_dir, \"test.csv\"))"
   ]
  },
  {
   "cell_type": "markdown",
   "metadata": {},
   "source": [
    "## Initial Mutual Information"
   ]
  },
  {
   "cell_type": "code",
   "execution_count": 47,
   "metadata": {},
   "outputs": [],
   "source": [
    "numerics = ['int16', 'int32', 'int64', 'float16', 'float32', 'float64']\n",
    "df_train_num = df_train.select_dtypes(include=numerics)"
   ]
  },
  {
   "cell_type": "code",
   "execution_count": 48,
   "metadata": {},
   "outputs": [],
   "source": [
    "X = df_train_num.drop(\"price\", axis=1)\n",
    "y = df_train_num[\"price\"]"
   ]
  },
  {
   "cell_type": "code",
   "execution_count": 49,
   "metadata": {},
   "outputs": [
    {
     "name": "stdout",
     "output_type": "stream",
     "text": [
      "Saving figure mi_score_1\n"
     ]
    },
    {
     "data": {
      "image/png": "[encoded data removed]",
      "text/plain": [
       "<Figure size 432x288 with 1 Axes>"
      ]
     },
     "metadata": {
      "needs_background": "light"
     },
     "output_type": "display_data"
    }
   ],
   "source": [
    "mi_scores = make_mi_scores(X, y)\n",
    "plot_mi_scores(mi_scores, \"mi_score_1\", img_dir)"
   ]
  },
  {
   "cell_type": "markdown",
   "metadata": {},
   "source": [
    "## Feature Engineering"
   ]
  },
  {
   "cell_type": "markdown",
   "metadata": {},
   "source": [
    "- As shown in above EDA, since there are many categories in ``tenure`` with low count, we can group them together.\n",
    "- We can compute the number of active years by subtracting ``built_year`` from current year\n",
    "- We can target encode ``planning_area`` by replacing the values with the mean price \n",
    "- We perform one hot encoding on ``tenure`` and ``property_type``\n",
    "- In our test set, we have one planning area \"Boon Lay\" that is not present in our training set. As a result, we wont be able to target encode the \"Boon Lay\". We know that \"Boon Lay\" is near \"Jurong West\" so we will impute that value instead"
   ]
  },
  {
   "cell_type": "code",
   "execution_count": 50,
   "metadata": {},
   "outputs": [],
   "source": [
    "df_train_preproc = create_features(df_train)\n",
    "df_train_preproc = df_train_preproc.drop([\"planning_area\"], axis=1)\n",
    "df_train_preproc.to_csv(\"clean_data/train_preproc.csv\")"
   ]
  },
  {
   "cell_type": "code",
   "execution_count": 51,
   "metadata": {},
   "outputs": [
    {
     "data": {
      "text/html": [
       "<div>\n",
       "<style scoped>\n",
       "    .dataframe tbody tr th:only-of-type {\n",
       "        vertical-align: middle;\n",
       "    }\n",
       "\n",
       "    .dataframe tbody tr th {\n",
       "        vertical-align: top;\n",
       "    }\n",
       "\n",
       "    .dataframe thead th {\n",
       "        text-align: right;\n",
       "    }\n",
       "</style>\n",
       "<table border=\"1\" class=\"dataframe\">\n",
       "  <thead>\n",
       "    <tr style=\"text-align: right;\">\n",
       "      <th></th>\n",
       "      <th>num_beds</th>\n",
       "      <th>num_baths</th>\n",
       "      <th>size_sqft</th>\n",
       "      <th>total_num_units</th>\n",
       "      <th>lat</th>\n",
       "      <th>lng</th>\n",
       "      <th>price</th>\n",
       "      <th>active_years</th>\n",
       "      <th>planning_area_density</th>\n",
       "      <th>remaining_lease</th>\n",
       "      <th>mean_subzone_price</th>\n",
       "      <th>mean_subzone_sqft</th>\n",
       "      <th>mean_property_sqft</th>\n",
       "      <th>mean_planning_sqft</th>\n",
       "      <th>planning_area_mean</th>\n",
       "      <th>total_rooms</th>\n",
       "      <th>size_per_room</th>\n",
       "      <th>mean_property_type</th>\n",
       "      <th>distance</th>\n",
       "      <th>num_shopping_malls</th>\n",
       "      <th>tenure_99-year leasehold</th>\n",
       "      <th>tenure_freehold</th>\n",
       "    </tr>\n",
       "  </thead>\n",
       "  <tbody>\n",
       "    <tr>\n",
       "      <th>0</th>\n",
       "      <td>3.0</td>\n",
       "      <td>2.0</td>\n",
       "      <td>1115</td>\n",
       "      <td>116.00000</td>\n",
       "      <td>1.414399</td>\n",
       "      <td>103.837196</td>\n",
       "      <td>514500.0</td>\n",
       "      <td>34.0</td>\n",
       "      <td>15290.636281</td>\n",
       "      <td>65.0</td>\n",
       "      <td>6.658635e+05</td>\n",
       "      <td>1125.152941</td>\n",
       "      <td>1063.446642</td>\n",
       "      <td>1244.961765</td>\n",
       "      <td>1.148675e+06</td>\n",
       "      <td>5.0</td>\n",
       "      <td>223.0</td>\n",
       "      <td>6.595184e+05</td>\n",
       "      <td>0.573567</td>\n",
       "      <td>2.0</td>\n",
       "      <td>1</td>\n",
       "      <td>0</td>\n",
       "    </tr>\n",
       "    <tr>\n",
       "      <th>1</th>\n",
       "      <td>4.0</td>\n",
       "      <td>2.0</td>\n",
       "      <td>1575</td>\n",
       "      <td>375.36085</td>\n",
       "      <td>1.372597</td>\n",
       "      <td>103.875625</td>\n",
       "      <td>995400.0</td>\n",
       "      <td>30.0</td>\n",
       "      <td>12981.843721</td>\n",
       "      <td>69.0</td>\n",
       "      <td>1.719814e+06</td>\n",
       "      <td>1928.827586</td>\n",
       "      <td>1063.446642</td>\n",
       "      <td>2582.707317</td>\n",
       "      <td>3.799670e+06</td>\n",
       "      <td>6.0</td>\n",
       "      <td>262.5</td>\n",
       "      <td>6.595184e+05</td>\n",
       "      <td>1.728895</td>\n",
       "      <td>3.0</td>\n",
       "      <td>1</td>\n",
       "      <td>0</td>\n",
       "    </tr>\n",
       "    <tr>\n",
       "      <th>2</th>\n",
       "      <td>4.0</td>\n",
       "      <td>6.0</td>\n",
       "      <td>3070</td>\n",
       "      <td>56.00000</td>\n",
       "      <td>1.298773</td>\n",
       "      <td>103.895798</td>\n",
       "      <td>8485000.0</td>\n",
       "      <td>0.0</td>\n",
       "      <td>7535.378473</td>\n",
       "      <td>999.0</td>\n",
       "      <td>4.642224e+06</td>\n",
       "      <td>2152.425743</td>\n",
       "      <td>1179.143997</td>\n",
       "      <td>1806.595166</td>\n",
       "      <td>3.889591e+06</td>\n",
       "      <td>10.0</td>\n",
       "      <td>307.0</td>\n",
       "      <td>2.966084e+06</td>\n",
       "      <td>1.315256</td>\n",
       "      <td>5.0</td>\n",
       "      <td>0</td>\n",
       "      <td>1</td>\n",
       "    </tr>\n",
       "    <tr>\n",
       "      <th>3</th>\n",
       "      <td>3.0</td>\n",
       "      <td>2.0</td>\n",
       "      <td>958</td>\n",
       "      <td>638.00000</td>\n",
       "      <td>1.312364</td>\n",
       "      <td>103.803271</td>\n",
       "      <td>2626000.0</td>\n",
       "      <td>-1.0</td>\n",
       "      <td>5513.897301</td>\n",
       "      <td>1000.0</td>\n",
       "      <td>2.757134e+06</td>\n",
       "      <td>999.216535</td>\n",
       "      <td>1179.143997</td>\n",
       "      <td>2568.777256</td>\n",
       "      <td>5.952523e+06</td>\n",
       "      <td>5.0</td>\n",
       "      <td>191.6</td>\n",
       "      <td>2.966084e+06</td>\n",
       "      <td>0.723885</td>\n",
       "      <td>4.0</td>\n",
       "      <td>0</td>\n",
       "      <td>1</td>\n",
       "    </tr>\n",
       "    <tr>\n",
       "      <th>4</th>\n",
       "      <td>2.0</td>\n",
       "      <td>1.0</td>\n",
       "      <td>732</td>\n",
       "      <td>351.00000</td>\n",
       "      <td>1.273959</td>\n",
       "      <td>103.843635</td>\n",
       "      <td>1764000.0</td>\n",
       "      <td>-4.0</td>\n",
       "      <td>920.930181</td>\n",
       "      <td>103.0</td>\n",
       "      <td>3.502766e+06</td>\n",
       "      <td>1149.516667</td>\n",
       "      <td>1179.143997</td>\n",
       "      <td>1650.031397</td>\n",
       "      <td>4.988207e+06</td>\n",
       "      <td>3.0</td>\n",
       "      <td>244.0</td>\n",
       "      <td>2.966084e+06</td>\n",
       "      <td>0.370022</td>\n",
       "      <td>16.0</td>\n",
       "      <td>1</td>\n",
       "      <td>0</td>\n",
       "    </tr>\n",
       "  </tbody>\n",
       "</table>\n",
       "</div>"
      ],
      "text/plain": [
       "   num_beds  num_baths  size_sqft  total_num_units       lat         lng  \\\n",
       "0       3.0        2.0       1115        116.00000  1.414399  103.837196   \n",
       "1       4.0        2.0       1575        375.36085  1.372597  103.875625   \n",
       "2       4.0        6.0       3070         56.00000  1.298773  103.895798   \n",
       "3       3.0        2.0        958        638.00000  1.312364  103.803271   \n",
       "4       2.0        1.0        732        351.00000  1.273959  103.843635   \n",
       "\n",
       "       price  active_years  planning_area_density  remaining_lease  \\\n",
       "0   514500.0          34.0           15290.636281             65.0   \n",
       "1   995400.0          30.0           12981.843721             69.0   \n",
       "2  8485000.0           0.0            7535.378473            999.0   \n",
       "3  2626000.0          -1.0            5513.897301           1000.0   \n",
       "4  1764000.0          -4.0             920.930181            103.0   \n",
       "\n",
       "   mean_subzone_price  mean_subzone_sqft  mean_property_sqft  \\\n",
       "0        6.658635e+05        1125.152941         1063.446642   \n",
       "1        1.719814e+06        1928.827586         1063.446642   \n",
       "2        4.642224e+06        2152.425743         1179.143997   \n",
       "3        2.757134e+06         999.216535         1179.143997   \n",
       "4        3.502766e+06        1149.516667         1179.143997   \n",
       "\n",
       "   mean_planning_sqft  planning_area_mean  total_rooms  size_per_room  \\\n",
       "0         1244.961765        1.148675e+06          5.0          223.0   \n",
       "1         2582.707317        3.799670e+06          6.0          262.5   \n",
       "2         1806.595166        3.889591e+06         10.0          307.0   \n",
       "3         2568.777256        5.952523e+06          5.0          191.6   \n",
       "4         1650.031397        4.988207e+06          3.0          244.0   \n",
       "\n",
       "   mean_property_type  distance  num_shopping_malls  tenure_99-year leasehold  \\\n",
       "0        6.595184e+05  0.573567                 2.0                         1   \n",
       "1        6.595184e+05  1.728895                 3.0                         1   \n",
       "2        2.966084e+06  1.315256                 5.0                         0   \n",
       "3        2.966084e+06  0.723885                 4.0                         0   \n",
       "4        2.966084e+06  0.370022                16.0                         1   \n",
       "\n",
       "   tenure_freehold  \n",
       "0                0  \n",
       "1                0  \n",
       "2                1  \n",
       "3                1  \n",
       "4                0  "
      ]
     },
     "execution_count": 51,
     "metadata": {},
     "output_type": "execute_result"
    }
   ],
   "source": [
    "df_train_preproc.head()"
   ]
  },
  {
   "cell_type": "code",
   "execution_count": 65,
   "metadata": {},
   "outputs": [
    {
     "name": "stdout",
     "output_type": "stream",
     "text": [
      "Your selected dataframe has 22 columns.\n",
      "There are 0 columns that have missing values.\n"
     ]
    },
    {
     "data": {
      "text/html": [
       "<div>\n",
       "<style scoped>\n",
       "    .dataframe tbody tr th:only-of-type {\n",
       "        vertical-align: middle;\n",
       "    }\n",
       "\n",
       "    .dataframe tbody tr th {\n",
       "        vertical-align: top;\n",
       "    }\n",
       "\n",
       "    .dataframe thead th {\n",
       "        text-align: right;\n",
       "    }\n",
       "</style>\n",
       "<table border=\"1\" class=\"dataframe\">\n",
       "  <thead>\n",
       "    <tr style=\"text-align: right;\">\n",
       "      <th></th>\n",
       "      <th>Missing Values</th>\n",
       "      <th>% of Total Values</th>\n",
       "    </tr>\n",
       "  </thead>\n",
       "  <tbody>\n",
       "  </tbody>\n",
       "</table>\n",
       "</div>"
      ],
      "text/plain": [
       "Empty DataFrame\n",
       "Columns: [Missing Values, % of Total Values]\n",
       "Index: []"
      ]
     },
     "execution_count": 65,
     "metadata": {},
     "output_type": "execute_result"
    }
   ],
   "source": [
    "missing_values_table(df_train_preproc)"
   ]
  },
  {
   "cell_type": "markdown",
   "metadata": {},
   "source": [
    "https://www.kaggle.com/code/ryanholbrook/feature-engineering-for-house-prices"
   ]
  },
  {
   "cell_type": "code",
   "execution_count": 53,
   "metadata": {},
   "outputs": [],
   "source": [
    "X = df_train_preproc.drop(\"price\", axis=1)\n",
    "y = df_train_preproc[\"price\"]"
   ]
  },
  {
   "cell_type": "code",
   "execution_count": 54,
   "metadata": {},
   "outputs": [
    {
     "name": "stdout",
     "output_type": "stream",
     "text": [
      "Saving figure mi_score_2\n"
     ]
    },
    {
     "data": {
      "image/png": "[encoded data removed]",
      "text/plain": [
       "<Figure size 432x288 with 1 Axes>"
      ]
     },
     "metadata": {
      "needs_background": "light"
     },
     "output_type": "display_data"
    }
   ],
   "source": [
    "mi_scores = make_mi_scores(X, y)\n",
    "plot_mi_scores(mi_scores, \"mi_score_2\", img_dir)"
   ]
  },
  {
   "cell_type": "markdown",
   "metadata": {},
   "source": [
    "- Since size_sqft is highly informative, we will create more features with it."
   ]
  },
  {
   "cell_type": "code",
   "execution_count": 68,
   "metadata": {},
   "outputs": [],
   "source": [
    "df_test_preproc = clean_property_type(df_test)\n",
    "df_test_preproc = clean_tenure(df_test_preproc)\n",
    "df_test_preproc = fill_missing_values(df_test_preproc)\n",
    "df_test_preproc = update_data(df_test_preproc)\n",
    "df_test_preproc = create_features(df_test_preproc)\n",
    "df_test_preproc = drop_columns(df_test_preproc)"
   ]
  },
  {
   "cell_type": "code",
   "execution_count": 69,
   "metadata": {},
   "outputs": [],
   "source": [
    "# since all values will be the same, doesn't matter if we take max\n",
    "jurong_west_price_mean = df_test_preproc[df_test_preproc[\"planning_area\"] == \"jurong west\"][\"planning_area_mean\"].max()\n",
    "df_test_preproc[\"planning_area_mean\"] = np.where(df_test_preproc[\"planning_area\"]==\"boon lay\",  jurong_west_price_mean, df_test_preproc[\"planning_area_mean\"])\n",
    "df_test_preproc = df_test_preproc.drop([\"planning_area\"], axis=1)\n",
    "df_test_preproc.to_csv(\"clean_data/test_preproc.csv\")"
   ]
  },
  {
   "cell_type": "code",
   "execution_count": 70,
   "metadata": {},
   "outputs": [
    {
     "name": "stdout",
     "output_type": "stream",
     "text": [
      "Your selected dataframe has 21 columns.\n",
      "There are 0 columns that have missing values.\n"
     ]
    },
    {
     "data": {
      "text/html": [
       "<div>\n",
       "<style scoped>\n",
       "    .dataframe tbody tr th:only-of-type {\n",
       "        vertical-align: middle;\n",
       "    }\n",
       "\n",
       "    .dataframe tbody tr th {\n",
       "        vertical-align: top;\n",
       "    }\n",
       "\n",
       "    .dataframe thead th {\n",
       "        text-align: right;\n",
       "    }\n",
       "</style>\n",
       "<table border=\"1\" class=\"dataframe\">\n",
       "  <thead>\n",
       "    <tr style=\"text-align: right;\">\n",
       "      <th></th>\n",
       "      <th>Missing Values</th>\n",
       "      <th>% of Total Values</th>\n",
       "    </tr>\n",
       "  </thead>\n",
       "  <tbody>\n",
       "  </tbody>\n",
       "</table>\n",
       "</div>"
      ],
      "text/plain": [
       "Empty DataFrame\n",
       "Columns: [Missing Values, % of Total Values]\n",
       "Index: []"
      ]
     },
     "execution_count": 70,
     "metadata": {},
     "output_type": "execute_result"
    }
   ],
   "source": [
    "missing_values_table(df_test_preproc)"
   ]
  },
  {
   "cell_type": "code",
   "execution_count": null,
   "metadata": {},
   "outputs": [],
   "source": []
  }
 ],
 "metadata": {
  "kernelspec": {
   "display_name": "Python 3.8.5 ('tensorflow-gpu')",
   "language": "python",
   "name": "python3"
  },
  "language_info": {
   "codemirror_mode": {
    "name": "ipython",
    "version": 3
   },
   "file_extension": ".py",
   "mimetype": "text/x-python",
   "name": "python",
   "nbconvert_exporter": "python",
   "pygments_lexer": "ipython3",
   "version": "3.8.5"
  },
  "orig_nbformat": 4,
  "vscode": {
   "interpreter": {
    "hash": "eb5db5e69cbba06ac89a1590ec73231baad4b2563d81e8260f8e57174d6de7b8"
   }
  }
 },
 "nbformat": 4,
 "nbformat_minor": 2
}
